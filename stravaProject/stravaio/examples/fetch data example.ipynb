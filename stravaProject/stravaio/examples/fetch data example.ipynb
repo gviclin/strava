{
 "cells": [
  {
   "cell_type": "code",
   "execution_count": 1,
   "metadata": {},
   "outputs": [],
   "source": [
    "import os\n",
    "from stravaio import StravaIO, strava_oauth2\n",
    "import dotenv\n",
    "import warnings\n",
    "\n",
    "%load_ext autoreload\n",
    "%autoreload 2"
   ]
  },
  {
   "cell_type": "code",
   "execution_count": 2,
   "metadata": {},
   "outputs": [
    {
     "data": {
      "text/plain": [
       "True"
      ]
     },
     "execution_count": 2,
     "metadata": {},
     "output_type": "execute_result"
    }
   ],
   "source": [
    "dotenv.load_dotenv()"
   ]
  },
  {
   "cell_type": "code",
   "execution_count": 3,
   "metadata": {},
   "outputs": [
    {
     "name": "stderr",
     "output_type": "stream",
     "text": [
      "2019-07-15 20:23:47.757 | INFO     | stravaio:strava_oauth2:343 - serving at port 8000\n",
      "2019-07-15 20:23:51.608 | DEBUG    | stravaio:run_server_and_wait_for_token:397 - code: 2a6b9b27fac9373e21a13326ce45732800facdc8\n",
      "2019-07-15 20:23:52.949 | DEBUG    | stravaio:run_server_and_wait_for_token:406 - Authorized athlete: 02438bf76ecaba906b4f1875b6b692b6ad1cea88\n"
     ]
    }
   ],
   "source": [
    "token = strava_oauth2()"
   ]
  },
  {
   "cell_type": "code",
   "execution_count": 4,
   "metadata": {},
   "outputs": [],
   "source": [
    "client = StravaIO(access_token=token['access_token'])"
   ]
  },
  {
   "cell_type": "code",
   "execution_count": 5,
   "metadata": {},
   "outputs": [],
   "source": [
    "athlete = client.get_logged_in_athlete()"
   ]
  },
  {
   "cell_type": "code",
   "execution_count": 6,
   "metadata": {},
   "outputs": [
    {
     "name": "stdout",
     "output_type": "stream",
     "text": [
      "Fetched 30, the latests is on 2018-09-20 04:04:32+00:00\n",
      "Fetched 30, the latests is on 2018-11-11 12:55:38+00:00\n",
      "Fetched 30, the latests is on 2018-12-08 19:24:27+00:00\n",
      "Fetched 30, the latests is on 2019-03-19 10:00:58+00:00\n",
      "Fetched 30, the latests is on 2019-06-20 03:14:02+00:00\n",
      "Fetched 20, the latests is on 2019-07-15 09:59:42+00:00\n"
     ]
    }
   ],
   "source": [
    "activities = client.get_logged_in_athlete_activities(after='last year')"
   ]
  },
  {
   "cell_type": "code",
   "execution_count": 7,
   "metadata": {},
   "outputs": [
    {
     "data": {
      "text/plain": [
       "170"
      ]
     },
     "execution_count": 7,
     "metadata": {},
     "output_type": "execute_result"
    }
   ],
   "source": [
    "len(activities)"
   ]
  }
 ],
 "metadata": {
  "kernelspec": {
   "display_name": "Python 3",
   "language": "python",
   "name": "python3"
  },
  "language_info": {
   "codemirror_mode": {
    "name": "ipython",
    "version": 3
   },
   "file_extension": ".py",
   "mimetype": "text/x-python",
   "name": "python",
   "nbconvert_exporter": "python",
   "pygments_lexer": "ipython3",
   "version": "3.6.7"
  }
 },
 "nbformat": 4,
 "nbformat_minor": 2
}
